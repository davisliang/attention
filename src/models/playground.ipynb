{
 "cells": [
  {
   "cell_type": "code",
   "execution_count": 128,
   "metadata": {},
   "outputs": [],
   "source": [
    "#imports \n",
    "\n",
    "from os.path import expanduser\n",
    "import numpy as np\n",
    "import tensorflow as tf\n",
    "import sys\n"
   ]
  },
  {
   "cell_type": "code",
   "execution_count": 124,
   "metadata": {},
   "outputs": [],
   "source": [
    "def extract_data(filename):\n",
    "    relative_path = \"../../data/\"\n",
    "    data = open(expanduser(relative_path+filename),\"rb\")\n",
    "    data_list = []\n",
    "    for line in data:\n",
    "        data_list.append(np.asarray(list(line)))\n",
    "    return np.asarray(data_list)\n",
    "\n",
    "def preprocess_data(data):\n",
    "    newdata = []\n",
    "    for row in data:\n",
    "        newrow = np.zeros(row.shape)\n",
    "        for i in range(len(row)):\n",
    "            newrow[i]=ord(row[i])\n",
    "        newdata.append(newrow)\n",
    "    return np.array(newdata)\n",
    "\n",
    "def encoder(hidden_size, input_data):\n",
    "    encoder_cell = tf.nn.rnn_cell.BasicLSTMCell(hidden_size)\n",
    "    initial_state = rnn_cell.zero_state(batch_size, dtype=tf.float32)\n",
    "    outputs, state = tf.nn.dynamic_rnn(encoder_cell, input_data, initial_state = initial_state, dtype=tf.float32)\n",
    "    return outputs, state\n",
    "\n",
    "def decoder(hidden_size, input_data):\n",
    "    decoder_cell = tf.nn.rnn_cell.BasicLSTMCell(hidden_size)\n",
    "    helper = tf.contrib.seq2seq.TrainingHelper(input_data, decoder_lengths)\n",
    "    initial_state = rnn_cell.zero_state(batch_size, dtype=tf.float32)\n",
    "    outputs, state = tf.nn.dynamic_rnn(decoder_cell, input_data, initial_state = initial_state, dtype=tf.float32)\n",
    "    return outputs\n",
    "\n",
    "def sentence_to_one_hot(sentence_numpy_array):\n",
    "    one_hot_data = np.zeros((len(sentence_numpy_array),256))\n",
    "    for i in range(len(sentence_numpy_array)):\n",
    "        one_hot_data[i][int(sentence_numpy_array[i])]=1\n",
    "    return one_hot_data\n",
    "\n",
    "def data_to_one_hot(data):\n",
    "    data_list = []\n",
    "    for sentence in data:\n",
    "        data_list.append(sentence_to_one_hot(sentence))\n",
    "    return data_list\n",
    "    # return one hot vectors for each input character\n",
    "\n",
    "def "
   ]
  },
  {
   "cell_type": "code",
   "execution_count": 140,
   "metadata": {},
   "outputs": [],
   "source": [
    "\"\"\"\n",
    "Prepare Data\n",
    "\"\"\"\n",
    "\n",
    "#extract data\n",
    "train_english = extract_data(\"train.10k.en\")\n",
    "train_german = extract_data(\"train.10k.de\")\n",
    "valid_english = extract_data(\"valid.100.en\")\n",
    "valid_german = extract_data(\"valid.100.de\")\n",
    "\n",
    "#preprocess data\n",
    "train_english_processed = preprocess_data(train_english)\n",
    "train_german_processed = preprocess_data(train_german)\n",
    "valid_english_processed = preprocess_data(valid_english)\n",
    "valid_german_processed = preprocess_data(valid_german)\n",
    "\n",
    "#data to one hot\n",
    "one_hot_train_english = data_to_one_hot(train_english_processed)\n",
    "one_hot_train_german = data_to_one_hot(train_german_processed)\n",
    "one_hot_valid_english = data_to_one_hot(valid_english_processed)\n",
    "one_hot_valid_german = data_to_one_hot(valid_german_processed)\n"
   ]
  },
  {
   "cell_type": "code",
   "execution_count": null,
   "metadata": {},
   "outputs": [],
   "source": []
  },
  {
   "cell_type": "code",
   "execution_count": 161,
   "metadata": {},
   "outputs": [],
   "source": [
    "#inputs and outputs\n",
    "\n",
    "tf.reset_default_graph() \n",
    "sess = tf.InteractiveSession() \n",
    "\n",
    "batch_size = 1000\n",
    "max_sequence_length = 10\n",
    "encoder_inputs = tf.placeholder(shape=(batch_size, max_sequence_length, 256), dtype=tf.float32, name='encoder_inputs')\n",
    "decoder_inputs = tf.placeholder(shape=(batch_size, max_sequence_length, 256), dtype=tf.float32, name='decoder_inputs')\n",
    "decoder_targets = tf.placeholder(shape=(batch_size, max_sequence_length, 256), dtype=tf.float32, name='decoder_targets')"
   ]
  },
  {
   "cell_type": "code",
   "execution_count": 162,
   "metadata": {},
   "outputs": [],
   "source": [
    "#encoder network\n",
    "hidden_size = 100\n",
    "batch_size = 100\n",
    "with tf.variable_scope('encoder'):\n",
    "    encoder_cell = tf.nn.rnn_cell.BasicLSTMCell(hidden_size)\n",
    "    (encoder_output, encoder_final_state) = tf.nn.dynamic_rnn(encoder_cell, encoder_inputs, dtype=tf.float32)\n"
   ]
  },
  {
   "cell_type": "code",
   "execution_count": 163,
   "metadata": {},
   "outputs": [],
   "source": [
    "#decoder network\n",
    "with tf.variable_scope('decoder'):\n",
    "    decoder_cell = tf.nn.rnn_cell.BasicLSTMCell(hidden_size)\n",
    "    (decoder_output, decoder_final_state) = tf.nn.dynamic_rnn(decoder_cell, decoder_inputs, initial_state = encoder_final_state, dtype=tf.float32)\n",
    "\n",
    "decoder_logits = tf.contrib.layers.linear(decoder_output, 256)\n",
    "decoder_prediction = tf.argmax(decoder_logits)"
   ]
  },
  {
   "cell_type": "code",
   "execution_count": 166,
   "metadata": {},
   "outputs": [],
   "source": [
    "#optimizer\n",
    "stepwise_cross_entropy = tf.nn.softmax_cross_entropy_with_logits(\n",
    "    labels=decoder_targets,\n",
    "    logits=decoder_logits,\n",
    ")\n",
    "\n",
    "loss = tf.reduce_mean(stepwise_cross_entropy)\n",
    "train_op = tf.train.AdamOptimizer().minimize(loss)"
   ]
  },
  {
   "cell_type": "code",
   "execution_count": 167,
   "metadata": {},
   "outputs": [],
   "source": [
    "# start session\n",
    "sess.run(tf.global_variables_initializer())\n",
    "batch_ = [[6], [3, 4], [9, 8, 7]]\n",
    "batch_, batch_length_ = helpers.batch(batch_)\n",
    "print('batch_encoded:\\n' + str(batch_))\n",
    "\n",
    "din_, dlen_ = helpers.batch(np.ones(shape=(3, 1), dtype=np.int32),\n",
    "                            max_sequence_length=4)\n",
    "print('decoder inputs:\\n' + str(din_))\n",
    "\n",
    "pred_ = sess.run(decoder_prediction,\n",
    "    feed_dict={\n",
    "        encoder_inputs: batch_,\n",
    "        decoder_inputs: din_,\n",
    "    })\n",
    "print('decoder predictions:\\n' + str(pred_))"
   ]
  },
  {
   "cell_type": "code",
   "execution_count": null,
   "metadata": {},
   "outputs": [],
   "source": []
  }
 ],
 "metadata": {
  "anaconda-cloud": {},
  "kernelspec": {
   "display_name": "Python 2",
   "language": "python",
   "name": "python2"
  },
  "language_info": {
   "codemirror_mode": {
    "name": "ipython",
    "version": 2
   },
   "file_extension": ".py",
   "mimetype": "text/x-python",
   "name": "python",
   "nbconvert_exporter": "python",
   "pygments_lexer": "ipython2",
   "version": "2.7.14"
  }
 },
 "nbformat": 4,
 "nbformat_minor": 1
}
