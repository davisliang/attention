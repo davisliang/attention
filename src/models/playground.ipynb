{
 "cells": [
  {
   "cell_type": "code",
   "execution_count": 3,
   "metadata": {
    "collapsed": true
   },
   "outputs": [],
   "source": [
    "#imports \n",
    "\n",
    "from os.path import expanduser\n",
    "import numpy as np\n",
    "import tensorflow\n",
    "import sys\n"
   ]
  },
  {
   "cell_type": "code",
   "execution_count": 25,
   "metadata": {
    "collapsed": false
   },
   "outputs": [
    {
     "ename": "IndentationError",
     "evalue": "expected an indented block (<ipython-input-25-27b99c815c01>, line 12)",
     "output_type": "error",
     "traceback": [
      "\u001b[0;36m  File \u001b[0;32m\"<ipython-input-25-27b99c815c01>\"\u001b[0;36m, line \u001b[0;32m12\u001b[0m\n\u001b[0;31m    def decoder(hidden_size, input_data):\u001b[0m\n\u001b[0m      ^\u001b[0m\n\u001b[0;31mIndentationError\u001b[0m\u001b[0;31m:\u001b[0m expected an indented block\n"
     ]
    }
   ],
   "source": [
    "def extract_data(filename):\n",
    "    relative_path = \"../../data/\"\n",
    "    data = open(expanduser(relative_path+filename),\"rb\")\n",
    "    data_list = []\n",
    "    for line in data:\n",
    "        data_list.append(line)\n",
    "    return np.asarray(data_list)\n",
    "\n",
    "def preprocess_data(data):\n",
    "    for row in data:\n",
    "        for i in range(len(row)):\n",
    "            row[i]\n",
    "\n",
    "def decoder(hidden_size, input_data):\n",
    "    rnn_cell = tf.nn.rnn_cell.BasicRNNCell(hidden_size)\n",
    "    initial_state = rnn_cell.zero_state(batch_size, dtype=tf.float32)\n",
    "    outputs, state = tf.nn.dynamic_rnn(rnn_cell, input_data, initial_state = initial_state, dtype=tf.float32)\n",
    "    return outputs\n",
    "\n",
    "def encoder(hidden_size, input_data):\n",
    "    rnn_cell = tf.nn.rnn_cell.BasicRNNCell(hidden_size)\n",
    "    initial_state = rnn_cell.zero_state(batch_size, dtype=tf.float32)\n",
    "    outputs, state = tf.nn.dynamic_rnn(rnn_cell, input_data, initial_state = initial_state, dtype=tf.float32)\n",
    "    return outputs\n",
    "\n"
   ]
  },
  {
   "cell_type": "code",
   "execution_count": 18,
   "metadata": {
    "collapsed": false
   },
   "outputs": [],
   "source": [
    "#extract data\n",
    "train_english = extract_data(\"train.10k.en\")\n",
    "train_german = extract_data(\"train.10k.de\")\n",
    "valid_english = extract_data(\"valid.100.en\")\n",
    "valid_german = extract_data(\"valid.100.de\")\n"
   ]
  },
  {
   "cell_type": "code",
   "execution_count": 29,
   "metadata": {
    "collapsed": false
   },
   "outputs": [
    {
     "data": {
      "text/plain": [
       "'Eine republikanische Strategie , um der Wiederwahl von Obama entgegenzutreten\\n'"
      ]
     },
     "execution_count": 29,
     "metadata": {},
     "output_type": "execute_result"
    }
   ],
   "source": [
    "valid_german[0]"
   ]
  },
  {
   "cell_type": "code",
   "execution_count": null,
   "metadata": {
    "collapsed": true
   },
   "outputs": [],
   "source": []
  }
 ],
 "metadata": {
  "anaconda-cloud": {},
  "kernelspec": {
   "display_name": "Python [default]",
   "language": "python",
   "name": "python2"
  },
  "language_info": {
   "codemirror_mode": {
    "name": "ipython",
    "version": 2
   },
   "file_extension": ".py",
   "mimetype": "text/x-python",
   "name": "python",
   "nbconvert_exporter": "python",
   "pygments_lexer": "ipython2",
   "version": "2.7.12"
  }
 },
 "nbformat": 4,
 "nbformat_minor": 1
}
