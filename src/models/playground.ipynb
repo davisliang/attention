{
 "cells": [
  {
   "cell_type": "code",
   "execution_count": 3,
   "metadata": {},
   "outputs": [],
   "source": [
    "import mxnet as mx\n",
    "import numpy as np\n",
    "from mxnet import nd, gluon, autograd\n",
    "from mxnet.gluon import nn, Block\n",
    "\n",
    "def one_hots(numerical_list, vocab_size):\n",
    "    result = nd.zeros((len(numerical_list), vocab_size), ctx=ctx)\n",
    "    for i, idx in enumerate(numerical_list):\n",
    "        result[i, idx] = 1.0\n",
    "    return result\n",
    "\n",
    "def textify(embedding):\n",
    "    result = \"\"\n",
    "    indices = nd.argmax(embedding, axis=1).asnumpy()\n",
    "    for idx in indices:\n",
    "        result += character_list[int(idx)]\n",
    "    return result\n",
    "\n",
    "def load_time_machine(seq_length=64, batch_size=1):\n",
    "    # loading dataset\n",
    "    path = \"../../data/timemachine.txt\"\n",
    "    with open(path) as f:\n",
    "        time_machine = f.read()\n",
    "    time_machine = time_machine[:-38083] #hardcoded to remove crap\n",
    "    character_dict, vocab_size = get_char_dict(time_machine)\n",
    "    \n",
    "    time_numerical = [character_dict[char] for char in time_machine]\n",
    "    # -1 here so we have enough characters for labels later\n",
    "    num_samples = (len(time_numerical) - 1) // seq_length\n",
    "    dataset = one_hots(time_numerical[:seq_length*num_samples],vocab_size).reshape((num_samples, seq_length, vocab_size))\n",
    "    num_batches = len(dataset) // batch_size\n",
    "    train_data = dataset[:num_batches*batch_size].reshape((batch_size, num_batches, seq_length, vocab_size))\n",
    "    \n",
    "    # swap batch_size and seq_length axis to make later access easier\n",
    "    train_data = nd.swapaxes(train_data, 0, 1)\n",
    "    train_data = nd.swapaxes(train_data, 1, 2)\n",
    "    print('Shape of data set: ', train_data.shape)\n",
    "    \n",
    "    labels = one_hots(time_numerical[1:seq_length*num_samples+1], vocab_size)\n",
    "    train_label = labels.reshape((batch_size, num_batches, seq_length, vocab_size))\n",
    "    train_label = nd.swapaxes(train_label, 0, 1)\n",
    "    train_label = nd.swapaxes(train_label, 1, 2)\n",
    "    print('Shape of label set: ', train_label.shape)\n",
    "    \n",
    "    return train_data, train_label\n",
    "\n",
    "def load_english_to_french(seq_length=64,batch_size=1):\n",
    "    #2600L, 64L, 1L, 88L\n",
    "    path = \"../../data/\"\n",
    "\n",
    "def get_char_dict(data):\n",
    "    # get character dictionary\n",
    "    character_list = list(set(data))\n",
    "    vocab_size = len(character_list)\n",
    "    # get the character dictionary\n",
    "    character_dict = {}\n",
    "    for e, char in enumerate(character_list):\n",
    "        character_dict[char] = e\n",
    "    return character_dict, vocab_size\n",
    "\n",
    "def get_char_dict_builder(data, character_dict):\n",
    "    # get character dictionary\n",
    "    print \"building dictionary\"\n",
    "    for line in data:\n",
    "        character_list = list(set(line))\n",
    "        # get the character dictionary\n",
    "        for i in range(len(character_list)):\n",
    "            if(character_list[i] not in character_dict):\n",
    "                character_dict[character_list[i]] = len(character_dict)\n",
    "    vocab_size = len(character_dict)\n",
    "    return character_dict, vocab_size\n",
    "\n",
    "def rnn_helper(num_hidden, vocab_size): \n",
    "    num_inputs = vocab_size\n",
    "    num_outputs = vocab_size\n",
    "    Wxh = nd.random_normal(shape=(num_inputs,num_hidden), ctx=ctx) * .01\n",
    "    Whh = nd.random_normal(shape=(num_hidden,num_hidden), ctx=ctx) * .01\n",
    "    bh = nd.random_normal(shape=num_hidden, ctx=ctx) * .01\n",
    "    Why = nd.random_normal(shape=(num_hidden,num_outputs), ctx=ctx) * .01\n",
    "    by = nd.random_normal(shape=num_outputs, ctx=ctx) * .01\n",
    "    params = [Wxh, Whh, bh, Why, by]\n",
    "\n",
    "    for param in params:\n",
    "        param.attach_grad()\n",
    "    return params\n",
    " \n",
    "def softmax(y_linear):\n",
    "    exp = nd.exp(y_linear-nd.max(y_linear))\n",
    "    partition = nd.nansum(exp, axis=0, exclude=True)\n",
    "    return exp / partition\n",
    "\n",
    "def encoder(steps, input_data, num_hidden, vocab_size, state, params):\n",
    "    Wxh, Whh, bh, Why, by = params\n",
    "    outputs = []\n",
    "    h = state\n",
    "    for i in range(input_data.shape[0]):\n",
    "        h_linear = nd.dot(input_data[i], Wxh) + nd.dot(h, Whh) + bh\n",
    "        h = nd.tanh(h_linear)\n",
    "        yhat_linear = nd.dot(h, Why) + by\n",
    "        yhat = softmax(yhat_linear) \n",
    "        outputs.append(nd.expand_dims(yhat[0],axis=1))\n",
    "    return (outputs, h)\n",
    "\n",
    "def attention(decoder_hidden_t, encoder_output):\n",
    "    if(decoder_hidden_t.shape[1] != encoder_output.shape[0]):\n",
    "        encoder_output = encoder_output.T\n",
    "    return nd.dot(softmax(nd.dot(decoder_hidden_t, encoder_output)) , encoder_output.T)\n",
    " \n",
    "def decoder(steps, encoder_outputs, state, num_hidden, vocab_size, params):\n",
    "    Wxh, Whh, bh, Why, by = params\n",
    "    outputs = []\n",
    "    h = state\n",
    "    # only look at steps long. (consider this 'dynamic')\n",
    "    for i in range(steps):\n",
    "        h=nd.reshape(h,(1,h.size))\n",
    "        yhat = softmax(nd.dot(nd.tanh(nd.dot(attention(h, encoder_outputs), Wxh) + nd.dot(h, Whh) + bh), Why) + by) \n",
    "        outputs.append(yhat[0])\n",
    "    return (outputs, h)    \n",
    "    \n",
    "def SGD(params, lr):    \n",
    "    for param in params:\n",
    "        param[:] = param - lr * param.grad\n",
    "        \n",
    "\n",
    "def cross_entropy(yhat, y):\n",
    "    return - nd.mean(nd.sum(y * nd.log(yhat), axis=0, exclude=True))\n",
    "\n",
    "\n",
    "def average_ce_loss(outputs, labels):\n",
    "    assert(len(outputs) == len(labels))\n",
    "    total_loss = 0.\n",
    "    for (output, label) in zip(outputs,labels):\n",
    "        total_loss = total_loss + cross_entropy(output, label)\n",
    "    return total_loss / len(outputs)\n",
    "\n",
    "        \n",
    "def list_to_nd_array(list_of_nd_arrays):\n",
    "    return nd.concat(*list_of_nd_arrays)\n",
    "\n",
    "\n",
    "def translation_numerical(data,character_dict):\n",
    "    print \"turning characters into numerical representation\"\n",
    "    return_list=[]\n",
    "    for line in data:\n",
    "        return_list.append([character_dict[char] for char in line])\n",
    "    return return_list\n",
    "\n",
    "def numerical_to_nd(one_data,translation_dict):\n",
    "    one_hot = one_hots(one_data, len(translation_dict))\n",
    "    temp = one_hot.reshape((1,1,one_hot.shape[0],one_hot.shape[1]))\n",
    "    temp = nd.swapaxes(temp,0,1)\n",
    "    temp = nd.swapaxes(temp,1,2)\n",
    "    return temp"
   ]
  },
  {
   "cell_type": "code",
   "execution_count": 2,
   "metadata": {},
   "outputs": [
    {
     "name": "stdout",
     "output_type": "stream",
     "text": [
      "('Shape of data set: ', (2600L, 64L, 1L, 88L))\n",
      "('Shape of label set: ', (2600L, 64L, 1L, 88L))\n"
     ]
    }
   ],
   "source": [
    "# context usage\n",
    "ctx = mx.cpu()\n",
    "data, labels = load_time_machine()"
   ]
  },
  {
   "cell_type": "code",
   "execution_count": 65,
   "metadata": {
    "collapsed": true
   },
   "outputs": [],
   "source": [
    "num_hidden = 192\n",
    "steps = 64\n",
    "learning_rate = 0.01\n",
    "vocab_size = 192\n",
    "\n",
    "decoder_params = rnn_helper(num_hidden, vocab_size)\n",
    "encoder_params = rnn_helper(num_hidden, vocab_size)\n",
    "params = decoder_params + encoder_params"
   ]
  },
  {
   "cell_type": "code",
   "execution_count": null,
   "metadata": {
    "scrolled": true
   },
   "outputs": [],
   "source": []
  },
  {
   "cell_type": "code",
   "execution_count": 30,
   "metadata": {
    "collapsed": true
   },
   "outputs": [],
   "source": [
    "ctx=mx.cpu()"
   ]
  },
  {
   "cell_type": "code",
   "execution_count": 5,
   "metadata": {},
   "outputs": [
    {
     "ename": "IOError",
     "evalue": "[Errno 2] No such file or directory: '../../data/train.en'",
     "output_type": "error",
     "traceback": [
      "\u001b[0;31m---------------------------------------------------------------------------\u001b[0m",
      "\u001b[0;31mIOError\u001b[0m                                   Traceback (most recent call last)",
      "\u001b[0;32m<ipython-input-5-7f419a7ad3cc>\u001b[0m in \u001b[0;36m<module>\u001b[0;34m()\u001b[0m\n\u001b[1;32m      1\u001b[0m \u001b[0;31m# open the datasets\u001b[0m\u001b[0;34m\u001b[0m\u001b[0;34m\u001b[0m\u001b[0m\n\u001b[0;32m----> 2\u001b[0;31m \u001b[0;32mwith\u001b[0m \u001b[0mopen\u001b[0m\u001b[0;34m(\u001b[0m\u001b[0;34m\"../../data/train.en\"\u001b[0m\u001b[0;34m,\u001b[0m\u001b[0;34m\"rb\"\u001b[0m\u001b[0;34m)\u001b[0m \u001b[0;32mas\u001b[0m \u001b[0mf\u001b[0m\u001b[0;34m:\u001b[0m\u001b[0;34m\u001b[0m\u001b[0m\n\u001b[0m\u001b[1;32m      3\u001b[0m     \u001b[0mtrain_data\u001b[0m \u001b[0;34m=\u001b[0m \u001b[0mf\u001b[0m\u001b[0;34m.\u001b[0m\u001b[0mread\u001b[0m\u001b[0;34m(\u001b[0m\u001b[0;34m)\u001b[0m\u001b[0;34m.\u001b[0m\u001b[0msplitlines\u001b[0m\u001b[0;34m(\u001b[0m\u001b[0;34m)\u001b[0m\u001b[0;34m\u001b[0m\u001b[0m\n\u001b[1;32m      4\u001b[0m \u001b[0;32mwith\u001b[0m \u001b[0mopen\u001b[0m\u001b[0;34m(\u001b[0m\u001b[0;34m\"../../data/train.fr\"\u001b[0m\u001b[0;34m,\u001b[0m\u001b[0;34m\"rb\"\u001b[0m\u001b[0;34m)\u001b[0m \u001b[0;32mas\u001b[0m \u001b[0mf\u001b[0m\u001b[0;34m:\u001b[0m\u001b[0;34m\u001b[0m\u001b[0m\n\u001b[1;32m      5\u001b[0m     \u001b[0mtrain_labels\u001b[0m \u001b[0;34m=\u001b[0m \u001b[0mf\u001b[0m\u001b[0;34m.\u001b[0m\u001b[0mread\u001b[0m\u001b[0;34m(\u001b[0m\u001b[0;34m)\u001b[0m\u001b[0;34m.\u001b[0m\u001b[0msplitlines\u001b[0m\u001b[0;34m(\u001b[0m\u001b[0;34m)\u001b[0m\u001b[0;34m\u001b[0m\u001b[0m\n",
      "\u001b[0;31mIOError\u001b[0m: [Errno 2] No such file or directory: '../../data/train.en'"
     ]
    }
   ],
   "source": [
    "# open the datasets\n",
    "with open(\"../../data/train.en\",\"rb\") as f:\n",
    "    train_data = f.read().splitlines()\n",
    "with open(\"../../data/train.fr\",\"rb\") as f:\n",
    "    train_labels = f.read().splitlines()\n",
    "\n",
    "# create dictionary\n",
    "translation_dict = {}\n",
    "_, num_items = get_char_dict_builder(train_data,translation_dict)\n",
    "_, num_items = get_char_dict_builder(train_labels, translation_dict)\n",
    "\n",
    "# from characters to numerical representations\n",
    "english_numerical=translation_numerical(train_data,translation_dict)\n",
    "french_numerical=translation_numerical(train_labels,translation_dict)\n",
    "\n",
    "#convenience\n",
    "data = english_numerical\n",
    "labels = french_numerical"
   ]
  },
  {
   "cell_type": "code",
   "execution_count": null,
   "metadata": {},
   "outputs": [],
   "source": [
    "for epoch in range(100):\n",
    "    for i in range(data.shape[0]):\n",
    "        with autograd.record():\n",
    "            en = numerical_to_nd(data[i],translation_dict)\n",
    "            fr = numerical_to_nd(labels[i],translation_dict)\n",
    "            \n",
    "            output_encoder,hidden_encoder=encoder(en.shape[1], en, num_hidden, int(en.shape[3]), nd.zeros(num_hidden),encoder_params)\n",
    "            out_enc = list_to_nd_array(output_encoder)\n",
    "            output_decoder, hidden_state = decoder(fr.shape[1],out_enc,nd.zeros(num_hidden),num_hidden,int(fr.shape[3]),decoder_params)\n",
    "            loss = average_ce_loss(output_decoder, nd.reshape(labels[i],(fr.shape[1],fr.shape[3]))) \n",
    "        loss.backward()\n",
    "        SGD(params, learning_rate)"
   ]
  },
  {
   "cell_type": "code",
   "execution_count": null,
   "metadata": {},
   "outputs": [],
   "source": []
  },
  {
   "cell_type": "code",
   "execution_count": 10,
   "metadata": {},
   "outputs": [],
   "source": []
  },
  {
   "cell_type": "code",
   "execution_count": 71,
   "metadata": {},
   "outputs": [],
   "source": []
  },
  {
   "cell_type": "code",
   "execution_count": null,
   "metadata": {},
   "outputs": [],
   "source": []
  },
  {
   "cell_type": "code",
   "execution_count": null,
   "metadata": {
    "collapsed": true
   },
   "outputs": [],
   "source": []
  },
  {
   "cell_type": "code",
   "execution_count": 61,
   "metadata": {},
   "outputs": [],
   "source": []
  },
  {
   "cell_type": "code",
   "execution_count": null,
   "metadata": {},
   "outputs": [],
   "source": []
  },
  {
   "cell_type": "code",
   "execution_count": null,
   "metadata": {},
   "outputs": [],
   "source": []
  },
  {
   "cell_type": "code",
   "execution_count": null,
   "metadata": {},
   "outputs": [],
   "source": []
  },
  {
   "cell_type": "code",
   "execution_count": null,
   "metadata": {},
   "outputs": [],
   "source": []
  },
  {
   "cell_type": "code",
   "execution_count": null,
   "metadata": {},
   "outputs": [],
   "source": []
  },
  {
   "cell_type": "code",
   "execution_count": null,
   "metadata": {},
   "outputs": [],
   "source": []
  },
  {
   "cell_type": "code",
   "execution_count": null,
   "metadata": {},
   "outputs": [],
   "source": []
  },
  {
   "cell_type": "code",
   "execution_count": null,
   "metadata": {
    "collapsed": true
   },
   "outputs": [],
   "source": [
    "for epoch in range(100):\n",
    "    for i in range(data.shape[0]):\n",
    "        with autograd.record():\n",
    "            output_encoder,hidden_encoder=encoder(steps, data[i], num_hidden, int(data.shape[3]), nd.zeros(num_hidden),encoder_params)\n",
    "            out_enc = list_to_nd_array(output_encoder)\n",
    "            output_decoder, hidden_state = decoder(steps,out_enc,nd.zeros(num_hidden),num_hidden,int(data.shape[3]),decoder_params)\n",
    "            loss = average_ce_loss(output_decoder, nd.reshape(labels[i],(64,88))) \n",
    "        loss.backward()\n",
    "        SGD(params, learning_rate)"
   ]
  }
 ],
 "metadata": {
  "anaconda-cloud": {},
  "kernelspec": {
   "display_name": "Python 2",
   "language": "python",
   "name": "python2"
  },
  "language_info": {
   "codemirror_mode": {
    "name": "ipython",
    "version": 2
   },
   "file_extension": ".py",
   "mimetype": "text/x-python",
   "name": "python",
   "nbconvert_exporter": "python",
   "pygments_lexer": "ipython2",
   "version": "2.7.14"
  }
 },
 "nbformat": 4,
 "nbformat_minor": 1
}
