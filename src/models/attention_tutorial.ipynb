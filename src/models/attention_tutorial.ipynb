{
 "cells": [
  {
   "cell_type": "code",
   "execution_count": null,
   "metadata": {
    "collapsed": false
   },
   "outputs": [],
   "source": [
    "\"\"\"\n",
    "This tutorial presents an end-to-end tutorial on building \n",
    "a simple RNN attention network from scratch on Apache MXNet. \n",
    "\n",
    "@version 1.0\n",
    "@author Davis Liang\n",
    "\"\"\""
   ]
  },
  {
   "cell_type": "code",
   "execution_count": 5,
   "metadata": {
    "collapsed": false
   },
   "outputs": [
    {
     "name": "stdout",
     "output_type": "stream",
     "text": [
      "Let's import some useful packages.\n"
     ]
    }
   ],
   "source": [
    "print \"Let's import some useful packages.\""
   ]
  },
  {
   "cell_type": "code",
   "execution_count": 6,
   "metadata": {
    "collapsed": true
   },
   "outputs": [],
   "source": [
    "import mxnet as mx\n",
    "import numpy as np\n",
    "from mxnet import nd, gluon, autograd\n",
    "from mxnet.gluon import nn, Block"
   ]
  },
  {
   "cell_type": "code",
   "execution_count": 3,
   "metadata": {
    "collapsed": false
   },
   "outputs": [
    {
     "name": "stdout",
     "output_type": "stream",
     "text": [
      "First, we'll borrow some code to extract, transform, and load the novel Time Machine from https://github.com/zackchase/mxnet-the-straight-dope/blob/master/chapter05_recurrent-neural-networks/simple-rnn.ipynb.\n"
     ]
    }
   ],
   "source": [
    "print \"First, we'll borrow some code to extract, transform, and load the novel Time Machine from https://github.com/zackchase/mxnet-the-straight-dope/blob/master/chapter05_recurrent-neural-networks/simple-rnn.ipynb.\""
   ]
  },
  {
   "cell_type": "code",
   "execution_count": 8,
   "metadata": {
    "collapsed": true
   },
   "outputs": [],
   "source": [
    "def one_hots(numerical_list, vocab_size):\n",
    "    result = nd.zeros((len(numerical_list), vocab_size), ctx=ctx)\n",
    "    for i, idx in enumerate(numerical_list):\n",
    "        result[i, idx] = 1.0\n",
    "    return result\n",
    "\n",
    "def textify(embedding):\n",
    "    result = \"\"\n",
    "    indices = nd.argmax(embedding, axis=1).asnumpy()\n",
    "    for idx in indices:\n",
    "        result += character_list[int(idx)]\n",
    "    return result\n",
    "\n",
    "def load_time_machine(seq_length=64, batch_size=1):\n",
    "    # loading dataset\n",
    "    path = \"../../data/timemachine.txt\"\n",
    "    with open(path) as f:\n",
    "        time_machine = f.read()\n",
    "    time_machine = time_machine[:-38083] #hardcoded to remove crap\n",
    "    character_dict, vocab_size = get_char_dict(time_machine)\n",
    "    \n",
    "    time_numerical = [character_dict[char] for char in time_machine]\n",
    "    # -1 here so we have enough characters for labels later\n",
    "    num_samples = (len(time_numerical) - 1) // seq_length\n",
    "    dataset = one_hots(time_numerical[:seq_length*num_samples],vocab_size).reshape((num_samples, seq_length, vocab_size))\n",
    "    num_batches = len(dataset) // batch_size\n",
    "    train_data = dataset[:num_batches*batch_size].reshape((batch_size, num_batches, seq_length, vocab_size))\n",
    "    \n",
    "    # swap batch_size and seq_length axis to make later access easier\n",
    "    train_data = nd.swapaxes(train_data, 0, 1)\n",
    "    train_data = nd.swapaxes(train_data, 1, 2)\n",
    "    print('Shape of data set: ', train_data.shape)\n",
    "    \n",
    "    labels = one_hots(time_numerical[1:seq_length*num_samples+1], vocab_size)\n",
    "    train_label = labels.reshape((batch_size, num_batches, seq_length, vocab_size))\n",
    "    train_label = nd.swapaxes(train_label, 0, 1)\n",
    "    train_label = nd.swapaxes(train_label, 1, 2)\n",
    "    print('Shape of label set: ', train_label.shape)\n",
    "    \n",
    "    return train_data, train_label\n",
    "\n",
    "def get_char_dict(data):\n",
    "    # get character dictionary\n",
    "    character_list = list(set(data))\n",
    "    vocab_size = len(character_list)\n",
    "    # get the character dictionary\n",
    "    character_dict = {}\n",
    "    for e, char in enumerate(character_list):\n",
    "        character_dict[char] = e\n",
    "    return character_dict, vocab_size"
   ]
  },
  {
   "cell_type": "code",
   "execution_count": 9,
   "metadata": {
    "collapsed": false
   },
   "outputs": [
    {
     "name": "stdout",
     "output_type": "stream",
     "text": [
      "Let's set our context and bring in the dataset.\n"
     ]
    }
   ],
   "source": [
    "print \"Let's set our context and bring in the dataset. For this example, we'll train a simple language model\""
   ]
  },
  {
   "cell_type": "code",
   "execution_count": 10,
   "metadata": {
    "collapsed": false
   },
   "outputs": [
    {
     "name": "stdout",
     "output_type": "stream",
     "text": [
      "('Shape of data set: ', (2600L, 64L, 1L, 88L))\n",
      "('Shape of label set: ', (2600L, 64L, 1L, 88L))\n"
     ]
    }
   ],
   "source": [
    "# context usage\n",
    "ctx = mx.cpu()\n",
    "data, labels = load_time_machine()"
   ]
  },
  {
   "cell_type": "code",
   "execution_count": null,
   "metadata": {
    "collapsed": true
   },
   "outputs": [],
   "source": []
  }
 ],
 "metadata": {
  "kernelspec": {
   "display_name": "Python [default]",
   "language": "python",
   "name": "python2"
  },
  "language_info": {
   "codemirror_mode": {
    "name": "ipython",
    "version": 2
   },
   "file_extension": ".py",
   "mimetype": "text/x-python",
   "name": "python",
   "nbconvert_exporter": "python",
   "pygments_lexer": "ipython2",
   "version": "2.7.12"
  }
 },
 "nbformat": 4,
 "nbformat_minor": 1
}
